{
  "nbformat": 4,
  "nbformat_minor": 0,
  "metadata": {
    "colab": {
      "provenance": [],
      "authorship_tag": "ABX9TyMQy6mbfrehAr3RyKxhDc6d",
      "include_colab_link": true
    },
    "kernelspec": {
      "name": "python3",
      "display_name": "Python 3"
    },
    "language_info": {
      "name": "python"
    }
  },
  "cells": [
    {
      "cell_type": "markdown",
      "metadata": {
        "id": "view-in-github",
        "colab_type": "text"
      },
      "source": [
        "<a href=\"https://colab.research.google.com/github/arunalukkal99/PDF-Metadata-Checker/blob/main/Metadata_checker.ipynb\" target=\"_parent\"><img src=\"https://colab.research.google.com/assets/colab-badge.svg\" alt=\"Open In Colab\"/></a>"
      ]
    },
    {
      "cell_type": "code",
      "execution_count": null,
      "metadata": {
        "id": "0vdvBfGqMnHk"
      },
      "outputs": [],
      "source": [
        "!pip install pymupdf\n"
      ]
    },
    {
      "cell_type": "code",
      "source": [
        "import fitz  # PyMuPDF\n",
        "from google.colab import files\n",
        "import os\n",
        "\n",
        "def read_pdf_metadata(pdf_path):\n",
        "    pdf_document = fitz.open(pdf_path)\n",
        "    metadata = pdf_document.metadata\n",
        "\n",
        "    # Access metadata using the appropriate attributes\n",
        "    print(\"Title:\", metadata.get('title', 'N/A'))\n",
        "    print(\"Author:\", metadata.get('author', 'N/A'))\n",
        "    print(\"Subject:\", metadata.get('subject', 'N/A'))\n",
        "    print(\"Producer:\", metadata.get('producer', 'N/A'))\n",
        "    print(\"Creator:\", metadata.get('creator', 'N/A'))\n",
        "    print(\"Creation Date:\", metadata.get('created', 'N/A'))\n",
        "    print(\"Number of Pages:\", pdf_document.page_count)\n",
        "    print(\"\\n\" + \"=\"*40 + \"\\n\")  # Add a separator for each file\n",
        "\n",
        "    # Delete the file after processing\n",
        "    os.remove(pdf_path)\n",
        "\n",
        "# Upload multiple PDF files\n",
        "uploaded = files.upload()\n",
        "\n",
        "# Process each uploaded file\n",
        "for pdf_file_name in uploaded.keys():\n",
        "    print(f\"Processing file: {pdf_file_name}\")\n",
        "    read_pdf_metadata(pdf_file_name)\n"
      ],
      "metadata": {
        "id": "_LVe0oCOPG9T"
      },
      "execution_count": null,
      "outputs": []
    }
  ]
}